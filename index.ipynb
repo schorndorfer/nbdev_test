{
  "cells": [
    {
      "cell_type": "code",
      "source": [
        "#hide\n",
        "from nbdev_test.core import *"
      ],
      "outputs": [],
      "execution_count": null,
      "metadata": {}
    },
    {
      "cell_type": "markdown",
      "source": [
        "# Project name here\n",
        "\n",
        "> Summary description here."
      ],
      "metadata": {}
    },
    {
      "cell_type": "markdown",
      "source": [
        "This file will become your README and also the index of your documentation."
      ],
      "metadata": {}
    },
    {
      "cell_type": "markdown",
      "source": [
        "## Install"
      ],
      "metadata": {}
    },
    {
      "cell_type": "markdown",
      "source": [
        "`pip install nbdev_test`"
      ],
      "metadata": {}
    },
    {
      "cell_type": "markdown",
      "source": [
        "## How to use"
      ],
      "metadata": {}
    },
    {
      "cell_type": "markdown",
      "source": [
        "Fill me in please! Don't forget code examples:"
      ],
      "metadata": {}
    },
    {
      "cell_type": "code",
      "source": [
        "1+1"
      ],
      "outputs": [
        {
          "output_type": "execute_result",
          "execution_count": null,
          "data": {
            "text/plain": "2"
          },
          "metadata": {}
        }
      ],
      "execution_count": null,
      "metadata": {}
    },
    {
      "cell_type": "code",
      "source": [],
      "outputs": [],
      "execution_count": null,
      "metadata": {}
    }
  ],
  "metadata": {
    "kernelspec": {
      "display_name": "Python 3",
      "language": "python",
      "name": "python3"
    },
    "nteract": {
      "version": "0.28.0"
    }
  },
  "nbformat": 4,
  "nbformat_minor": 2
}